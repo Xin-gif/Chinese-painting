{
  "nbformat": 4,
  "nbformat_minor": 0,
  "metadata": {
    "colab": {
      "name": "Untitled0.ipynb",
      "provenance": [],
      "toc_visible": true,
      "mount_file_id": "1uC62JYl9_Chof-opRueXkM7XdQbxm7HX",
      "authorship_tag": "ABX9TyO7W/We+mHT8TheGFQcp3jr",
      "include_colab_link": true
    },
    "kernelspec": {
      "name": "python3",
      "display_name": "Python 3"
    },
    "accelerator": "GPU"
  },
  "cells": [
    {
      "cell_type": "markdown",
      "metadata": {
        "id": "view-in-github",
        "colab_type": "text"
      },
      "source": [
        "<a href=\"https://colab.research.google.com/github/Xin-gif/Chinese-painting/blob/main/deeplabv2.ipynb\" target=\"_parent\"><img src=\"https://colab.research.google.com/assets/colab-badge.svg\" alt=\"Open In Colab\"/></a>"
      ]
    },
    {
      "cell_type": "code",
      "metadata": {
        "colab": {
          "base_uri": "https://localhost:8080/"
        },
        "id": "SuSH8XmaYqBO",
        "outputId": "8b7ce78d-a9a0-4563-a3c4-f55ddbde31e5"
      },
      "source": [
        "!python /content/drive/MyDrive/deeplab-pytorch-master/demo.py single \\\r\n",
        "    -c /content/drive/MyDrive/deeplab-pytorch-master/configs/cocostuff164k.yaml \\\r\n",
        "    -m /content/drive/MyDrive/deeplabv2_resnet101_msc-cocostuff10k-20000.pth \\\r\n",
        "    -i /content/drive/MyDrive/landscapeB.jpg"
      ],
      "execution_count": 35,
      "outputs": [
        {
          "output_type": "stream",
          "text": [
            "Mode: single\n",
            "Device: Tesla P100-PCIE-16GB\n",
            "Model: DeepLabV2_ResNet101_MSC\n",
            "/usr/local/lib/python3.7/dist-packages/torch/nn/functional.py:3500: UserWarning: The default behavior for interpolate/upsample with float scale_factor changed in 1.6.0 to align with other frameworks/libraries, and now uses scale_factor directly, instead of relying on the computed output size. If you wish to restore the old behavior, please set recompute_scale_factor=True. See the documentation of nn.Upsample for details. \n",
            "  \"The default behavior for interpolate/upsample with float scale_factor changed \"\n",
            "<Figure size 1000x1000 with 12 Axes>\n"
          ],
          "name": "stdout"
        }
      ]
    },
    {
      "cell_type": "code",
      "metadata": {
        "colab": {
          "base_uri": "https://localhost:8080/"
        },
        "id": "pLmDHno1t08h",
        "outputId": "00acfef1-3dbf-4c7b-b092-0cbf93792e7a"
      },
      "source": [
        ""
      ],
      "execution_count": 24,
      "outputs": [
        {
          "output_type": "stream",
          "text": [
            "/bin/bash: -c: line 0: syntax error near unexpected token `/content/drive/MyDrive/harvard_1.jpg'\n",
            "/bin/bash: -c: line 0: `plt.show(/content/drive/MyDrive/harvard_1.jpg)'\n"
          ],
          "name": "stdout"
        }
      ]
    },
    {
      "cell_type": "code",
      "metadata": {
        "colab": {
          "base_uri": "https://localhost:8080/"
        },
        "id": "CGZbg3pTrywJ",
        "outputId": "b2667d27-f9b1-4f4e-c106-8c815d16e450"
      },
      "source": [
        "cd /content/drive/MyDrive/deeplab-pytorch-master"
      ],
      "execution_count": 20,
      "outputs": [
        {
          "output_type": "stream",
          "text": [
            "/content/drive/MyDrive/deeplab-pytorch-master\n"
          ],
          "name": "stdout"
        }
      ]
    },
    {
      "cell_type": "code",
      "metadata": {
        "colab": {
          "base_uri": "https://localhost:8080/"
        },
        "id": "0w5u8cMrkoP3",
        "outputId": "e6cea8ba-2463-4fa1-b8a3-07f3b9a4ac88"
      },
      "source": [
        "!pip install cython\r\n",
        "!pip install git+https://github.com/lucasb-eyer/pydensecrf.git"
      ],
      "execution_count": 6,
      "outputs": [
        {
          "output_type": "stream",
          "text": [
            "Requirement already satisfied: cython in /usr/local/lib/python3.7/dist-packages (0.29.22)\n",
            "Collecting git+https://github.com/lucasb-eyer/pydensecrf.git\n",
            "  Cloning https://github.com/lucasb-eyer/pydensecrf.git to /tmp/pip-req-build-pcmo1_2c\n",
            "  Running command git clone -q https://github.com/lucasb-eyer/pydensecrf.git /tmp/pip-req-build-pcmo1_2c\n",
            "  Installing build dependencies ... \u001b[?25l\u001b[?25hdone\n",
            "  Getting requirements to build wheel ... \u001b[?25l\u001b[?25hdone\n",
            "    Preparing wheel metadata ... \u001b[?25l\u001b[?25hdone\n",
            "Building wheels for collected packages: pydensecrf\n",
            "  Building wheel for pydensecrf (PEP 517) ... \u001b[?25l\u001b[?25hdone\n",
            "  Created wheel for pydensecrf: filename=pydensecrf-1.0rc2-cp37-cp37m-linux_x86_64.whl size=2774102 sha256=08ee67b63ff0dfa9d2c9c84c208e7d83e86ba2730ed88b1bed0f96a98f5a1dee\n",
            "  Stored in directory: /tmp/pip-ephem-wheel-cache-pjuwy4tf/wheels/81/ac/ed/09f1890b954ca1ff7f189518cc9a319138e50e7ea88937fae9\n",
            "Successfully built pydensecrf\n",
            "Installing collected packages: pydensecrf\n",
            "Successfully installed pydensecrf-1.0rc2\n"
          ],
          "name": "stdout"
        }
      ]
    },
    {
      "cell_type": "code",
      "metadata": {
        "colab": {
          "base_uri": "https://localhost:8080/"
        },
        "id": "nr_VvIxukCN2",
        "outputId": "2b8a0f37-7144-4944-b4bd-d7f571d99cb7"
      },
      "source": [
        "!pip install pydensecrf"
      ],
      "execution_count": 5,
      "outputs": [
        {
          "output_type": "stream",
          "text": [
            "Collecting pydensecrf\n",
            "\u001b[?25l  Downloading https://files.pythonhosted.org/packages/31/5a/1c2ab48e8019d282c128bc5c621332267bb954d32eecdda3ba57306b1551/pydensecrf-1.0rc3.tar.gz (1.0MB)\n",
            "\u001b[K     |████████████████████████████████| 1.0MB 5.7MB/s \n",
            "\u001b[?25hBuilding wheels for collected packages: pydensecrf\n",
            "  Building wheel for pydensecrf (setup.py) ... \u001b[?25lerror\n",
            "\u001b[31m  ERROR: Failed building wheel for pydensecrf\u001b[0m\n",
            "\u001b[?25h  Running setup.py clean for pydensecrf\n",
            "Failed to build pydensecrf\n",
            "Installing collected packages: pydensecrf\n",
            "    Running setup.py install for pydensecrf ... \u001b[?25l\u001b[?25herror\n",
            "\u001b[31mERROR: Command errored out with exit status 1: /usr/bin/python3 -u -c 'import sys, setuptools, tokenize; sys.argv[0] = '\"'\"'/tmp/pip-install-rpzwzeyz/pydensecrf/setup.py'\"'\"'; __file__='\"'\"'/tmp/pip-install-rpzwzeyz/pydensecrf/setup.py'\"'\"';f=getattr(tokenize, '\"'\"'open'\"'\"', open)(__file__);code=f.read().replace('\"'\"'\\r\\n'\"'\"', '\"'\"'\\n'\"'\"');f.close();exec(compile(code, __file__, '\"'\"'exec'\"'\"'))' install --record /tmp/pip-record-5irj9c0u/install-record.txt --single-version-externally-managed --compile Check the logs for full command output.\u001b[0m\n"
          ],
          "name": "stdout"
        }
      ]
    },
    {
      "cell_type": "code",
      "metadata": {
        "colab": {
          "base_uri": "https://localhost:8080/"
        },
        "id": "HXszckfaj7jH",
        "outputId": "be06b46b-e38b-4352-9eaf-55b7ac44027b"
      },
      "source": [
        "!pip install omegaconf"
      ],
      "execution_count": 3,
      "outputs": [
        {
          "output_type": "stream",
          "text": [
            "Collecting omegaconf\n",
            "  Downloading https://files.pythonhosted.org/packages/d0/eb/9d63ce09dd8aa85767c65668d5414958ea29648a0eec80a4a7d311ec2684/omegaconf-2.0.6-py3-none-any.whl\n",
            "Requirement already satisfied: typing-extensions in /usr/local/lib/python3.7/dist-packages (from omegaconf) (3.7.4.3)\n",
            "Collecting PyYAML>=5.1.*\n",
            "\u001b[?25l  Downloading https://files.pythonhosted.org/packages/7a/a5/393c087efdc78091afa2af9f1378762f9821c9c1d7a22c5753fb5ac5f97a/PyYAML-5.4.1-cp37-cp37m-manylinux1_x86_64.whl (636kB)\n",
            "\u001b[K     |████████████████████████████████| 645kB 7.1MB/s \n",
            "\u001b[?25hInstalling collected packages: PyYAML, omegaconf\n",
            "  Found existing installation: PyYAML 3.13\n",
            "    Uninstalling PyYAML-3.13:\n",
            "      Successfully uninstalled PyYAML-3.13\n",
            "Successfully installed PyYAML-5.4.1 omegaconf-2.0.6\n"
          ],
          "name": "stdout"
        }
      ]
    },
    {
      "cell_type": "code",
      "metadata": {
        "id": "v5z7vQ4QiiPk"
      },
      "source": [
        ""
      ],
      "execution_count": null,
      "outputs": []
    }
  ]
}